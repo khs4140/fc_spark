{
 "cells": [
  {
   "cell_type": "code",
   "execution_count": 27,
   "metadata": {},
   "outputs": [],
   "source": [
    "from pyspark import SparkConf, SparkContext\n",
    "import pandas as pd\n",
    "import matplotlib.pyplot as plt\n",
    "%matplotlib inline"
   ]
  },
  {
   "cell_type": "markdown",
   "metadata": {},
   "source": [
    "**SparkConf** 사용자가 재정의해서 쓸 수 있는 설정 옵션들에 대한 Key와 Value를 갖고 있는 객체\n",
    "**SparkContext** Spark 클러스터와 연결시켜주는 객체\n",
    "\n",
    "- Spark 모든 기능에 접근할 수 있는 시작점\n",
    "- Spark는 분산환경에서 동작하기 때문에 Driver Program을 구동시키기 위해 SparkContext가 필요함\n",
    "- SparkContext는 프로그램당 하나만 만들 수 있고 사용후에는 종료\n"
   ]
  },
  {
   "cell_type": "markdown",
   "metadata": {},
   "source": [
    "## SparkContext 초기화\n",
    "\n",
    "![sparkcontext](assets/sparkcontext.png)\n",
    "\n",
    "* SparkContext 객체는 내부에 자바로 동작하는 Py4J의 SparkContext와 연결\n",
    "* 이 덕분에 파이썬으로 코딩하면서도 자바 위에서 동작하는 프로그램을 작성할 수 있다 \n",
    "* RDD를 만들 수 있다"
   ]
  },
  {
   "cell_type": "code",
   "execution_count": 8,
   "metadata": {},
   "outputs": [],
   "source": [
    "# SparkContext 초기화 및 Spark 객체 설정\n",
    "conf = SparkConf().setMaster('local').setAppName('uber-date-trips')\n",
    "sc = SparkContext(conf=conf)"
   ]
  },
  {
   "cell_type": "code",
   "execution_count": 9,
   "metadata": {},
   "outputs": [
    {
     "data": {
      "text/html": [
       "\n",
       "        <div>\n",
       "            <p><b>SparkContext</b></p>\n",
       "\n",
       "            <p><a href=\"http://localhost:4040\">Spark UI</a></p>\n",
       "\n",
       "            <dl>\n",
       "              <dt>Version</dt>\n",
       "                <dd><code>v3.5.0</code></dd>\n",
       "              <dt>Master</dt>\n",
       "                <dd><code>local</code></dd>\n",
       "              <dt>AppName</dt>\n",
       "                <dd><code>uber-date-trips</code></dd>\n",
       "            </dl>\n",
       "        </div>\n",
       "        "
      ],
      "text/plain": [
       "<SparkContext master=local appName=uber-date-trips>"
      ]
     },
     "execution_count": 9,
     "metadata": {},
     "output_type": "execute_result"
    }
   ],
   "source": [
    "sc"
   ]
  },
  {
   "cell_type": "code",
   "execution_count": 10,
   "metadata": {},
   "outputs": [],
   "source": [
    "# folder_name = '/Users/hangdori/_PML/fc_spark/data'\n",
    "folder_name = '/Users/lifelog/_PML/fc_spark/data'\n",
    "file_name = 'fhvhv_tripdata_2020-03.csv'"
   ]
  },
  {
   "cell_type": "markdown",
   "metadata": {},
   "source": [
    "### 데이터 로딩 후 RDD 생성"
   ]
  },
  {
   "cell_type": "code",
   "execution_count": 12,
   "metadata": {},
   "outputs": [],
   "source": [
    "lines = sc.textFile(f\"file:///{folder_name}/{file_name}\")"
   ]
  },
  {
   "cell_type": "markdown",
   "metadata": {},
   "source": [
    "### 필요한 부분만 추출"
   ]
  },
  {
   "cell_type": "code",
   "execution_count": 14,
   "metadata": {},
   "outputs": [],
   "source": [
    "header = lines.first() # 첫 줄..!\n",
    "filtered_lines = lines.filter(lambda x: x != header)"
   ]
  },
  {
   "cell_type": "code",
   "execution_count": 18,
   "metadata": {},
   "outputs": [],
   "source": [
    "dates = filtered_lines.map(lambda x: x.split(',')[4].split(' ')[0])"
   ]
  },
  {
   "cell_type": "code",
   "execution_count": 26,
   "metadata": {},
   "outputs": [
    {
     "name": "stderr",
     "output_type": "stream",
     "text": [
      "                                                                                \r"
     ]
    },
    {
     "data": {
      "text/plain": [
       "defaultdict(int,\n",
       "            {'2020-03-01': 780219,\n",
       "             '2020-02-29': 5603,\n",
       "             '2020-03-02': 648912,\n",
       "             '2020-03-03': 697798,\n",
       "             '2020-03-04': 708065,\n",
       "             '2020-03-05': 731656,\n",
       "             '2020-03-06': 873517,\n",
       "             '2020-03-07': 887260,\n",
       "             '2020-03-08': 728148,\n",
       "             '2020-03-09': 628813,\n",
       "             '2020-03-10': 626369,\n",
       "             '2020-03-11': 628609,\n",
       "             '2020-03-12': 643230,\n",
       "             '2020-03-13': 661432,\n",
       "             '2020-03-14': 569556,\n",
       "             '2020-03-15': 447181,\n",
       "             '2020-03-16': 391081,\n",
       "             '2020-03-17': 312085,\n",
       "             '2020-03-18': 269258,\n",
       "             '2020-03-19': 252764,\n",
       "             '2020-03-20': 262023,\n",
       "             '2020-03-21': 215661,\n",
       "             '2020-03-22': 162004,\n",
       "             '2020-03-23': 162343,\n",
       "             '2020-03-24': 141719,\n",
       "             '2020-03-25': 141074,\n",
       "             '2020-03-26': 141644,\n",
       "             '2020-03-27': 159481,\n",
       "             '2020-03-28': 138392,\n",
       "             '2020-03-29': 115416,\n",
       "             '2020-03-30': 132537,\n",
       "             '2020-03-31': 129077,\n",
       "             '2020-04-01': 1})"
      ]
     },
     "execution_count": 26,
     "metadata": {},
     "output_type": "execute_result"
    }
   ],
   "source": [
    "result = dates.countByValue()\n",
    "result"
   ]
  },
  {
   "cell_type": "code",
   "execution_count": 32,
   "metadata": {},
   "outputs": [
    {
     "data": {
      "image/png": "[encoded data removed]",
      "text/plain": [
       "<Figure size 640x480 with 1 Axes>"
      ]
     },
     "metadata": {},
     "output_type": "display_data"
    }
   ],
   "source": [
    "pd.Series(result, name='trips').plot()\n",
    "plt.show()"
   ]
  }
 ],
 "metadata": {
  "kernelspec": {
   "display_name": "base",
   "language": "python",
   "name": "python3"
  },
  "language_info": {
   "codemirror_mode": {
    "name": "ipython",
    "version": 3
   },
   "file_extension": ".py",
   "mimetype": "text/x-python",
   "name": "python",
   "nbconvert_exporter": "python",
   "pygments_lexer": "ipython3",
   "version": "3.10.10"
  }
 },
 "nbformat": 4,
 "nbformat_minor": 2
}
