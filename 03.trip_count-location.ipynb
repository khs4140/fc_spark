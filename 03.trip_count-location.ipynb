{
 "cells": [
  {
   "cell_type": "code",
   "execution_count": 1,
   "metadata": {},
   "outputs": [
    {
     "name": "stderr",
     "output_type": "stream",
     "text": [
      "Setting default log level to \"WARN\".\n",
      "To adjust logging level use sc.setLogLevel(newLevel). For SparkR, use setLogLevel(newLevel).\n",
      "23/11/09 14:10:43 WARN NativeCodeLoader: Unable to load native-hadoop library for your platform... using builtin-java classes where applicable\n",
      "23/11/09 14:10:44 WARN Utils: Service 'SparkUI' could not bind on port 4040. Attempting port 4041.\n"
     ]
    }
   ],
   "source": [
    "from pyspark.sql import SparkSession\n",
    "\n",
    "spark = SparkSession.builder.master('local[4]').appName('Newyork-taxi-count').getOrCreate()"
   ]
  },
  {
   "cell_type": "code",
   "execution_count": 10,
   "metadata": {},
   "outputs": [
    {
     "name": "stderr",
     "output_type": "stream",
     "text": [
      "                                                                                \r"
     ]
    }
   ],
   "source": [
    "trips_data = spark.read.csv(f'file:///Users/lifelog/_PML/fc_spark/data/fhvhv_tripdata_2020-03.csv', header=True, inferSchema=True)\n",
    "lookup_data = spark.read.csv(f'file:///Users/lifelog/_PML/fc_spark/data/taxi+_zone_lookup.csv', header=True, inferSchema=True)\n",
    "\n",
    "lookup_data.createOrReplaceTempView('locations')\n",
    "trips_data.createOrReplaceTempView('trips')"
   ]
  },
  {
   "cell_type": "code",
   "execution_count": 11,
   "metadata": {},
   "outputs": [
    {
     "name": "stdout",
     "output_type": "stream",
     "text": [
      "<class 'pyspark.sql.dataframe.DataFrame'>\n",
      "+----------+-------------+--------------------+------------+\n",
      "|LocationID|      Borough|                Zone|service_zone|\n",
      "+----------+-------------+--------------------+------------+\n",
      "|         1|          EWR|      Newark Airport|         EWR|\n",
      "|         2|       Queens|         Jamaica Bay|   Boro Zone|\n",
      "|         3|        Bronx|Allerton/Pelham G...|   Boro Zone|\n",
      "|         4|    Manhattan|       Alphabet City| Yellow Zone|\n",
      "|         5|Staten Island|       Arden Heights|   Boro Zone|\n",
      "|         6|Staten Island|Arrochar/Fort Wad...|   Boro Zone|\n",
      "|         7|       Queens|             Astoria|   Boro Zone|\n",
      "|         8|       Queens|        Astoria Park|   Boro Zone|\n",
      "|         9|       Queens|          Auburndale|   Boro Zone|\n",
      "|        10|       Queens|        Baisley Park|   Boro Zone|\n",
      "|        11|     Brooklyn|          Bath Beach|   Boro Zone|\n",
      "|        12|    Manhattan|        Battery Park| Yellow Zone|\n",
      "|        13|    Manhattan|   Battery Park City| Yellow Zone|\n",
      "|        14|     Brooklyn|           Bay Ridge|   Boro Zone|\n",
      "|        15|       Queens|Bay Terrace/Fort ...|   Boro Zone|\n",
      "|        16|       Queens|             Bayside|   Boro Zone|\n",
      "|        17|     Brooklyn|             Bedford|   Boro Zone|\n",
      "|        18|        Bronx|        Bedford Park|   Boro Zone|\n",
      "|        19|       Queens|           Bellerose|   Boro Zone|\n",
      "|        20|        Bronx|             Belmont|   Boro Zone|\n",
      "+----------+-------------+--------------------+------------+\n",
      "only showing top 20 rows\n",
      "\n"
     ]
    },
    {
     "data": {
      "text/plain": [
       "None"
      ]
     },
     "metadata": {},
     "output_type": "display_data"
    },
    {
     "name": "stdout",
     "output_type": "stream",
     "text": [
      "+---+-----------------+--------------------+--------------------+-------------------+-------------------+-------------------+-------------------+------------+------------+----------+---------+-------------------+-----+----+---------+--------------------+-----------+----+----------+-------------------+-----------------+------------------+----------------+--------------+\n",
      "|_c0|hvfhs_license_num|dispatching_base_num|originating_base_num|   request_datetime|  on_scene_datetime|    pickup_datetime|   dropoff_datetime|PULocationID|DOLocationID|trip_miles|trip_time|base_passenger_fare|tolls| bcf|sales_tax|congestion_surcharge|airport_fee|tips|driver_pay|shared_request_flag|shared_match_flag|access_a_ride_flag|wav_request_flag|wav_match_flag|\n",
      "+---+-----------------+--------------------+--------------------+-------------------+-------------------+-------------------+-------------------+------------+------------+----------+---------+-------------------+-----+----+---------+--------------------+-----------+----+----------+-------------------+-----------------+------------------+----------------+--------------+\n",
      "|  0|           HV0005|              B02510|                NULL|2020-03-01 00:00:12|               NULL|2020-03-01 00:03:40|2020-03-01 00:23:39|          81|         159|     8.655|     1199|              24.45|  0.0|0.54|      1.9|                 0.0|       NULL| 0.0|     19.65|                  N|                N|                 N|               N|             N|\n",
      "|  1|           HV0005|              B02510|                NULL|2020-03-01 00:22:03|               NULL|2020-03-01 00:28:05|2020-03-01 00:38:57|         168|         119|     3.523|      652|              11.88|  0.0|0.24|     0.85|                 0.0|       NULL| 0.0|      9.37|                  N|                N|                 N|               N|             N|\n",
      "|  2|           HV0003|              B02764|              B02764|2020-02-29 23:57:45|2020-03-01 00:01:04|2020-03-01 00:03:07|2020-03-01 00:15:04|         137|         209|      4.07|      717|              14.57|  0.0|0.38|     1.38|                2.75|       NULL| 0.0|     16.24|                  N|                Y|                  |               N|             N|\n",
      "|  3|           HV0003|              B02764|              B02764|2020-03-01 00:04:06|2020-03-01 00:15:48|2020-03-01 00:18:42|2020-03-01 00:38:42|         209|          80|      4.73|     1200|              13.89|  0.0|0.35|     1.23|                0.75|       NULL| 0.0|     21.76|                  Y|                N|                  |               N|             N|\n",
      "|  4|           HV0003|              B02764|              B02764|2020-03-01 00:42:46|2020-03-01 00:43:18|2020-03-01 00:44:24|2020-03-01 00:58:44|         256|         226|      4.03|      860|               20.2|  0.0|0.51|     1.79|                 0.0|       NULL| 0.0|     19.64|                  N|                N|                  |               N|             N|\n",
      "|  5|           HV0003|              B02682|              B02682|2020-03-01 00:13:59|2020-03-01 00:16:27|2020-03-01 00:17:23|2020-03-01 00:39:35|          79|         263|      4.57|     1332|              36.81|  0.0|0.92|     3.27|                2.75|       NULL| 0.0|     35.85|                  N|                N|                  |               N|             N|\n",
      "|  6|           HV0003|              B02764|              B02764|2020-02-29 23:54:30|2020-02-29 23:58:32|2020-03-01 00:01:18|2020-03-01 00:38:52|          61|          29|     11.36|     2254|              37.61|  0.0|1.02|     3.63|                 0.0|       NULL| 0.0|     31.39|                  N|                N|                  |               N|             N|\n",
      "|  7|           HV0003|              B02764|              B02764|2020-03-01 00:38:21|2020-03-01 00:42:08|2020-03-01 00:43:27|2020-03-01 00:47:27|         150|         150|      0.48|      240|               7.69|  0.0|0.18|     0.68|                 0.0|       NULL| 0.0|      5.39|                  N|                Y|                  |               N|             N|\n",
      "|  8|           HV0003|              B02764|              B02764|2020-03-01 00:45:56|2020-03-01 00:49:44|2020-03-01 00:52:23|2020-03-01 01:00:15|         150|         210|      1.15|      472|               7.06|  0.0|0.18|     0.63|                 0.0|       NULL| 0.0|     10.29|                  N|                N|                  |               N|             N|\n",
      "|  9|           HV0003|              B02764|              B02764|2020-03-01 00:13:34|2020-03-01 00:15:58|2020-03-01 00:19:49|2020-03-01 00:23:40|          60|         167|      0.89|      231|               3.17|  0.0|0.08|     0.28|                 0.0|       NULL| 0.0|      5.39|                  N|                N|                  |               N|             N|\n",
      "| 10|           HV0003|              B02764|              B02764|2020-03-01 00:26:07|2020-03-01 00:26:24|2020-03-01 00:29:34|2020-03-01 00:39:19|          47|         213|       3.7|      585|              11.51|  0.0|0.29|     1.02|                 0.0|       NULL| 0.0|      8.98|                  N|                N|                  |               N|             N|\n",
      "| 11|           HV0003|              B02764|              B02764|2020-03-01 00:39:16|2020-03-01 00:39:28|2020-03-01 00:41:44|2020-03-01 00:58:13|         213|         235|      4.63|      989|               8.56|  0.0|0.21|     0.76|                 0.0|       NULL| 0.0|     13.38|                  N|                N|                  |               N|             N|\n",
      "| 12|           HV0003|              B02765|              B02765|2020-03-01 00:06:45|2020-03-01 00:08:57|2020-03-01 00:11:26|2020-03-01 00:24:46|         243|         153|      2.35|      801|              10.85|  0.0|0.27|     0.96|                 0.0|       NULL| 0.0|      9.29|                  N|                N|                  |               N|             N|\n",
      "| 13|           HV0003|              B02765|              B02765|2020-03-01 00:21:41|2020-03-01 00:25:53|2020-03-01 00:28:05|2020-03-01 00:38:56|         127|          18|      1.77|      651|                9.4|  0.0|0.24|     0.83|                 0.0|       NULL| 0.0|     11.14|                  N|                N|                  |               N|             N|\n",
      "| 14|           HV0003|              B02765|              B02765|2020-03-01 00:38:41|2020-03-01 00:42:38|2020-03-01 00:44:28|2020-03-01 00:52:09|          18|         169|      1.32|      461|               3.59|  0.0|0.09|     0.32|                 0.0|       NULL| 0.0|      5.39|                  N|                N|                  |               N|             N|\n",
      "| 15|           HV0003|              B02765|              B02765|2020-03-01 00:52:15|2020-03-01 00:54:14|2020-03-01 00:56:50|2020-03-01 00:59:26|          94|         169|      0.46|      156|               3.46|  0.0|0.09|     0.31|                 0.0|       NULL| 0.0|      5.42|                  N|                N|                  |               N|             N|\n",
      "| 16|           HV0003|              B02764|              B02764|2020-03-01 00:52:20|2020-03-01 00:54:57|2020-03-01 00:56:14|2020-03-01 01:03:38|         211|         158|      1.04|      444|               4.08|  0.0|0.13|     0.46|                2.75|       NULL| 0.0|      7.14|                  N|                N|                  |               N|             N|\n",
      "| 17|           HV0003|              B02764|              B02764|2020-03-01 00:06:22|2020-03-01 00:11:58|2020-03-01 00:14:15|2020-03-01 00:26:47|         246|         107|      1.82|      752|                9.1|  0.0|0.31|     0.81|                2.75|       NULL| 3.0|       8.3|                  N|                N|                  |               N|             N|\n",
      "| 18|           HV0003|              B02764|              B02764|2020-03-01 00:23:00|2020-03-01 00:28:42|2020-03-01 00:31:38|2020-03-01 00:58:07|         234|           9|     12.56|     1589|              60.06| 6.12|1.79|     5.89|                2.75|       NULL| 5.0|      36.0|                  N|                N|                  |               N|             N|\n",
      "| 19|           HV0005|              B02510|                NULL|2020-03-01 00:23:25|               NULL|2020-03-01 00:26:31|2020-03-01 00:38:07|         139|          10|     5.156|      696|              15.66|  0.0|0.49|     1.75|                 0.0|       NULL| 2.0|       0.0|                  Y|                N|                 N|               N|             N|\n",
      "+---+-----------------+--------------------+--------------------+-------------------+-------------------+-------------------+-------------------+------------+------------+----------+---------+-------------------+-----+----+---------+--------------------+-----------+----+----------+-------------------+-----------------+------------------+----------------+--------------+\n",
      "only showing top 20 rows\n",
      "\n"
     ]
    },
    {
     "name": "stderr",
     "output_type": "stream",
     "text": [
      "23/11/09 14:15:05 WARN CSVHeaderChecker: CSV header does not conform to the schema.\n",
      " Header: , hvfhs_license_num, dispatching_base_num, originating_base_num, request_datetime, on_scene_datetime, pickup_datetime, dropoff_datetime, PULocationID, DOLocationID, trip_miles, trip_time, base_passenger_fare, tolls, bcf, sales_tax, congestion_surcharge, airport_fee, tips, driver_pay, shared_request_flag, shared_match_flag, access_a_ride_flag, wav_request_flag, wav_match_flag\n",
      " Schema: _c0, hvfhs_license_num, dispatching_base_num, originating_base_num, request_datetime, on_scene_datetime, pickup_datetime, dropoff_datetime, PULocationID, DOLocationID, trip_miles, trip_time, base_passenger_fare, tolls, bcf, sales_tax, congestion_surcharge, airport_fee, tips, driver_pay, shared_request_flag, shared_match_flag, access_a_ride_flag, wav_request_flag, wav_match_flag\n",
      "Expected: _c0 but found: \n",
      "CSV file: file:///Users/lifelog/_PML/fc_spark/data/fhvhv_tripdata_2020-03.csv\n"
     ]
    },
    {
     "data": {
      "text/plain": [
       "None"
      ]
     },
     "metadata": {},
     "output_type": "display_data"
    }
   ],
   "source": [
    "print(type(lookup_data))\n",
    "display(lookup_data.show())\n",
    "display(trips_data.show())"
   ]
  },
  {
   "cell_type": "code",
   "execution_count": 12,
   "metadata": {},
   "outputs": [
    {
     "name": "stdout",
     "output_type": "stream",
     "text": [
      "+---------+---------+-----------+\n",
      "|namespace|tableName|isTemporary|\n",
      "+---------+---------+-----------+\n",
      "|         |locations|       true|\n",
      "|         |    trips|       true|\n",
      "+---------+---------+-----------+\n",
      "\n"
     ]
    }
   ],
   "source": [
    "spark.sql('''\n",
    "        show tables\n",
    "          ''').show()"
   ]
  },
  {
   "cell_type": "code",
   "execution_count": 15,
   "metadata": {},
   "outputs": [
    {
     "name": "stderr",
     "output_type": "stream",
     "text": [
      "[Stage 26:====================================================>   (16 + 1) / 17]\r"
     ]
    },
    {
     "name": "stdout",
     "output_type": "stream",
     "text": [
      "+-------------+-------+\n",
      "|      Borough| Counts|\n",
      "+-------------+-------+\n",
      "|       Queens|2437394|\n",
      "|          EWR|    362|\n",
      "|      Unknown|    845|\n",
      "|     Brooklyn|3735765|\n",
      "|Staten Island| 178818|\n",
      "|    Manhattan|4953147|\n",
      "|        Bronx|2086597|\n",
      "+-------------+-------+\n",
      "\n"
     ]
    },
    {
     "name": "stderr",
     "output_type": "stream",
     "text": [
      "                                                                                \r"
     ]
    }
   ],
   "source": [
    "# 승차 수\n",
    "spark.sql('''\n",
    "        SELECT locations.Borough, count(*) as Counts\n",
    "        FROM trips join locations\n",
    "        on trips.PULocationID = locations.LocationID\n",
    "        group by locations.Borough\n",
    "        Limit 10\n",
    "          ''').show()"
   ]
  },
  {
   "cell_type": "code",
   "execution_count": 17,
   "metadata": {},
   "outputs": [
    {
     "name": "stderr",
     "output_type": "stream",
     "text": [
      "[Stage 30:====================================================>   (16 + 1) / 17]\r"
     ]
    },
    {
     "name": "stdout",
     "output_type": "stream",
     "text": [
      "+-------------+-------+\n",
      "|      Borough| Counts|\n",
      "+-------------+-------+\n",
      "|       Queens|2468416|\n",
      "|          EWR|  65066|\n",
      "|      Unknown| 387760|\n",
      "|     Brooklyn|3696684|\n",
      "|Staten Island| 177727|\n",
      "|    Manhattan|4553783|\n",
      "|        Bronx|2043492|\n",
      "+-------------+-------+\n",
      "\n"
     ]
    },
    {
     "name": "stderr",
     "output_type": "stream",
     "text": [
      "                                                                                \r"
     ]
    }
   ],
   "source": [
    "# 하차 수\n",
    "spark.sql('''\n",
    "        SELECT locations.Borough, count(*) as Counts\n",
    "        FROM trips join locations\n",
    "        on trips.DOLocationID = locations.LocationID\n",
    "        group by locations.Borough\n",
    "        Limit 10\n",
    "          ''').show()"
   ]
  },
  {
   "cell_type": "code",
   "execution_count": 18,
   "metadata": {},
   "outputs": [
    {
     "name": "stdout",
     "output_type": "stream",
     "text": [
      "== Parsed Logical Plan ==\n",
      "'GlobalLimit 10\n",
      "+- 'LocalLimit 10\n",
      "   +- 'Aggregate ['locations.Borough], ['locations.Borough, 'count(1) AS Counts#719]\n",
      "      +- 'Join Inner, ('trips.DOLocationID = 'locations.LocationID)\n",
      "         :- 'UnresolvedRelation [trips], [], false\n",
      "         +- 'UnresolvedRelation [locations], [], false\n",
      "\n",
      "== Analyzed Logical Plan ==\n",
      "Borough: string, Counts: bigint\n",
      "GlobalLimit 10\n",
      "+- LocalLimit 10\n",
      "   +- Aggregate [Borough#303], [Borough#303, count(1) AS Counts#719L]\n",
      "      +- Join Inner, (DOLocationID#244 = LocationID#302)\n",
      "         :- SubqueryAlias trips\n",
      "         :  +- View (`trips`, [_c0#235,hvfhs_license_num#236,dispatching_base_num#237,originating_base_num#238,request_datetime#239,on_scene_datetime#240,pickup_datetime#241,dropoff_datetime#242,PULocationID#243,DOLocationID#244,trip_miles#245,trip_time#246,base_passenger_fare#247,tolls#248,bcf#249,sales_tax#250,congestion_surcharge#251,airport_fee#252,tips#253,driver_pay#254,shared_request_flag#255,shared_match_flag#256,access_a_ride_flag#257,wav_request_flag#258,wav_match_flag#259])\n",
      "         :     +- Relation [_c0#235,hvfhs_license_num#236,dispatching_base_num#237,originating_base_num#238,request_datetime#239,on_scene_datetime#240,pickup_datetime#241,dropoff_datetime#242,PULocationID#243,DOLocationID#244,trip_miles#245,trip_time#246,base_passenger_fare#247,tolls#248,bcf#249,sales_tax#250,congestion_surcharge#251,airport_fee#252,tips#253,driver_pay#254,shared_request_flag#255,shared_match_flag#256,access_a_ride_flag#257,wav_request_flag#258,wav_match_flag#259] csv\n",
      "         +- SubqueryAlias locations\n",
      "            +- View (`locations`, [LocationID#302,Borough#303,Zone#304,service_zone#305])\n",
      "               +- Relation [LocationID#302,Borough#303,Zone#304,service_zone#305] csv\n",
      "\n",
      "== Optimized Logical Plan ==\n",
      "GlobalLimit 10\n",
      "+- LocalLimit 10\n",
      "   +- Aggregate [Borough#303], [Borough#303, count(1) AS Counts#719L]\n",
      "      +- Project [Borough#303]\n",
      "         +- Join Inner, (DOLocationID#244 = LocationID#302)\n",
      "            :- Project [DOLocationID#244]\n",
      "            :  +- Filter isnotnull(DOLocationID#244)\n",
      "            :     +- Relation [_c0#235,hvfhs_license_num#236,dispatching_base_num#237,originating_base_num#238,request_datetime#239,on_scene_datetime#240,pickup_datetime#241,dropoff_datetime#242,PULocationID#243,DOLocationID#244,trip_miles#245,trip_time#246,base_passenger_fare#247,tolls#248,bcf#249,sales_tax#250,congestion_surcharge#251,airport_fee#252,tips#253,driver_pay#254,shared_request_flag#255,shared_match_flag#256,access_a_ride_flag#257,wav_request_flag#258,wav_match_flag#259] csv\n",
      "            +- Project [LocationID#302, Borough#303]\n",
      "               +- Filter isnotnull(LocationID#302)\n",
      "                  +- Relation [LocationID#302,Borough#303,Zone#304,service_zone#305] csv\n",
      "\n",
      "== Physical Plan ==\n",
      "AdaptiveSparkPlan isFinalPlan=false\n",
      "+- CollectLimit 10\n",
      "   +- HashAggregate(keys=[Borough#303], functions=[count(1)], output=[Borough#303, Counts#719L])\n",
      "      +- Exchange hashpartitioning(Borough#303, 200), ENSURE_REQUIREMENTS, [plan_id=776]\n",
      "         +- HashAggregate(keys=[Borough#303], functions=[partial_count(1)], output=[Borough#303, count#724L])\n",
      "            +- Project [Borough#303]\n",
      "               +- BroadcastHashJoin [DOLocationID#244], [LocationID#302], Inner, BuildRight, false\n",
      "                  :- Filter isnotnull(DOLocationID#244)\n",
      "                  :  +- FileScan csv [DOLocationID#244] Batched: false, DataFilters: [isnotnull(DOLocationID#244)], Format: CSV, Location: InMemoryFileIndex(1 paths)[file:/Users/lifelog/_PML/fc_spark/data/fhvhv_tripdata_2020-03.csv], PartitionFilters: [], PushedFilters: [IsNotNull(DOLocationID)], ReadSchema: struct<DOLocationID:int>\n",
      "                  +- BroadcastExchange HashedRelationBroadcastMode(List(cast(input[0, int, false] as bigint)),false), [plan_id=771]\n",
      "                     +- Filter isnotnull(LocationID#302)\n",
      "                        +- FileScan csv [LocationID#302,Borough#303] Batched: false, DataFilters: [isnotnull(LocationID#302)], Format: CSV, Location: InMemoryFileIndex(1 paths)[file:/Users/lifelog/_PML/fc_spark/data/taxi+_zone_lookup.csv], PartitionFilters: [], PushedFilters: [IsNotNull(LocationID)], ReadSchema: struct<LocationID:int,Borough:string>\n",
      "\n"
     ]
    }
   ],
   "source": [
    "# 하차 수\n",
    "spark.sql('''\n",
    "        SELECT locations.Borough, count(*) as Counts\n",
    "        FROM trips join locations\n",
    "        on trips.DOLocationID = locations.LocationID\n",
    "        group by locations.Borough\n",
    "        Limit 10\n",
    "          ''').explain(True)"
   ]
  },
  {
   "cell_type": "code",
   "execution_count": null,
   "metadata": {},
   "outputs": [],
   "source": []
  }
 ],
 "metadata": {
  "kernelspec": {
   "display_name": "base",
   "language": "python",
   "name": "python3"
  },
  "language_info": {
   "codemirror_mode": {
    "name": "ipython",
    "version": 3
   },
   "file_extension": ".py",
   "mimetype": "text/x-python",
   "name": "python",
   "nbconvert_exporter": "python",
   "pygments_lexer": "ipython3",
   "version": "3.10.10"
  }
 },
 "nbformat": 4,
 "nbformat_minor": 2
}
